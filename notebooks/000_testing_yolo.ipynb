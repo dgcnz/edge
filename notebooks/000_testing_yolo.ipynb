{
 "cells": [
  {
   "cell_type": "code",
   "execution_count": 6,
   "metadata": {},
   "outputs": [],
   "source": [
    "from ultralytics import YOLO\n",
    "from ultralytics.models.yolo.detect import DetectionValidator\n"
   ]
  },
  {
   "cell_type": "code",
   "execution_count": 3,
   "metadata": {},
   "outputs": [],
   "source": [
    "\n",
    "model = YOLO(\"yolov8n.pt\")  # load a pretrained model (recommended for training)"
   ]
  },
  {
   "cell_type": "markdown",
   "metadata": {},
   "source": []
  },
  {
   "cell_type": "code",
   "execution_count": 8,
   "metadata": {},
   "outputs": [
    {
     "data": {
      "text/plain": [
       "[1, 768, 14, 14]"
      ]
     },
     "execution_count": 8,
     "metadata": {},
     "output_type": "execute_result"
    }
   ],
   "source": [
    "from transformers import VitDetConfig, VitDetModel\n",
    "import torch\n",
    "\n",
    "config = VitDetConfig()\n",
    "model = VitDetModel(config)\n",
    "\n",
    "pixel_values = torch.randn(1, 3, 224, 224)\n",
    "\n",
    "with torch.no_grad():\n",
    "    outputs = model(pixel_values)\n",
    "\n",
    "last_hidden_states = outputs.last_hidden_state\n",
    "list(last_hidden_states.shape)"
   ]
  },
  {
   "cell_type": "code",
   "execution_count": 11,
   "metadata": {},
   "outputs": [
    {
     "data": {
      "text/plain": [
       "BaseModelOutput(last_hidden_state=tensor([[[[ 9.9384e-01,  3.3283e-01,  3.1583e-02,  ..., -4.3223e-02,  1.8610e+00,  9.1770e-01],\n",
       "          [-6.3966e-01,  1.0398e+00, -4.2305e-01,  ...,  6.8148e-01, -5.7571e-02,  2.0772e-01],\n",
       "          [-4.8590e-01,  1.0596e+00, -1.3538e+00,  ..., -9.5550e-01, -5.5664e-02, -1.1004e+00],\n",
       "          ...,\n",
       "          [-4.8768e-01,  1.0936e-01,  3.0470e-01,  ..., -1.1994e+00,  2.1525e+00,  1.4658e-01],\n",
       "          [-2.0911e+00,  8.2806e-01, -6.2259e-02,  ..., -4.3169e-01, -7.5509e-01, -1.5553e+00],\n",
       "          [ 7.7475e-01, -4.3146e-01,  1.2285e+00,  ..., -9.4864e-01, -3.4288e-01,  1.3628e-01]],\n",
       "\n",
       "         [[-2.4121e+00, -3.2559e-01, -2.4534e+00,  ..., -1.4120e+00,  1.3570e+00, -2.0388e+00],\n",
       "          [-1.7169e+00,  1.1401e+00, -9.3974e-01,  ..., -7.6231e-01, -2.4168e+00, -1.9935e+00],\n",
       "          [-3.3028e-01, -2.8871e+00,  1.0980e+00,  ...,  3.6078e-01, -1.5334e-01, -9.0742e-01],\n",
       "          ...,\n",
       "          [ 1.1568e+00, -1.3014e+00,  3.5372e-01,  ..., -5.9516e-01, -1.3715e+00,  1.3209e+00],\n",
       "          [ 1.5450e-01, -9.9905e-01, -1.0225e+00,  ..., -9.7898e-01, -1.2607e-01, -9.7741e-01],\n",
       "          [ 4.5290e-01, -5.3492e-01, -2.8771e-01,  ..., -2.2504e-01, -1.2968e-01, -1.2192e+00]],\n",
       "\n",
       "         [[ 9.1784e-01,  4.2570e-01, -2.0033e+00,  ...,  2.0403e+00, -4.1438e-02, -1.4413e+00],\n",
       "          [-8.3149e-01,  1.2851e+00, -1.5193e+00,  ...,  1.7484e+00, -6.1581e-01,  3.1144e-01],\n",
       "          [-7.4210e-01,  1.1704e+00, -3.1024e-01,  ..., -8.6716e-01,  8.7353e-01,  2.1605e-02],\n",
       "          ...,\n",
       "          [ 4.0044e-01,  2.3876e+00,  7.0876e-01,  ..., -5.2186e-01, -2.3257e-01,  2.7775e-01],\n",
       "          [ 5.8075e-01, -9.0463e-01,  7.0485e-03,  ...,  1.6063e+00, -1.5845e+00,  1.5960e+00],\n",
       "          [-8.2203e-01, -2.5489e-01, -1.4700e+00,  ..., -1.1221e-01, -1.8842e+00,  2.4090e+00]],\n",
       "\n",
       "         ...,\n",
       "\n",
       "         [[-2.3850e+00, -7.5803e-01,  1.8260e+00,  ..., -1.7903e+00,  6.6483e-01,  6.8046e-01],\n",
       "          [-1.0218e-01, -1.3024e+00, -8.0978e-01,  ..., -2.4497e+00, -1.7224e+00,  8.4755e-01],\n",
       "          [-7.0454e-01,  1.1248e-01, -1.2192e+00,  ..., -5.9879e-02,  4.3638e-02, -2.0184e+00],\n",
       "          ...,\n",
       "          [-9.0613e-01,  1.4304e-01,  1.3431e+00,  ...,  1.2265e+00,  3.2266e+00, -2.1312e+00],\n",
       "          [ 4.4008e-01, -9.6822e-01, -1.0698e+00,  ..., -1.1340e+00, -2.4058e+00,  1.7805e-03],\n",
       "          [-1.6037e+00, -1.0788e+00,  8.7442e-01,  ..., -1.0158e+00, -1.4613e+00, -2.4283e+00]],\n",
       "\n",
       "         [[ 1.3742e+00,  1.9299e+00,  1.7495e+00,  ...,  1.6735e-01,  2.5387e+00,  8.3676e-01],\n",
       "          [ 2.3990e+00,  2.6120e+00, -5.7224e-01,  ...,  1.9603e+00,  2.4754e+00,  2.6156e+00],\n",
       "          [ 2.2002e+00,  2.1254e+00,  3.3745e-03,  ...,  2.3156e+00, -8.1727e-02, -7.2179e-01],\n",
       "          ...,\n",
       "          [ 1.5922e+00,  4.7984e-01,  8.7495e-01,  ...,  1.7833e+00,  2.9097e+00,  2.1870e+00],\n",
       "          [-2.5573e-02,  3.5984e-01,  2.1067e+00,  ...,  1.2607e+00,  1.5035e+00,  2.0727e+00],\n",
       "          [ 1.6208e+00,  2.2767e+00,  9.9784e-01,  ...,  1.8948e+00,  3.0924e+00,  2.6890e+00]],\n",
       "\n",
       "         [[-2.2806e+00, -9.5420e-01, -2.0604e+00,  ...,  2.7868e-01, -1.2985e+00, -3.0774e+00],\n",
       "          [ 2.0005e+00,  5.4004e-01, -5.6134e-01,  ..., -2.6877e+00, -6.8728e-01, -1.2628e+00],\n",
       "          [-2.1410e-01,  1.4493e+00,  7.8704e-01,  ...,  2.1187e+00, -5.5534e-01,  1.7339e+00],\n",
       "          ...,\n",
       "          [-3.2382e-01, -2.1512e+00, -4.6457e-01,  ..., -2.3752e+00, -2.0264e+00, -4.9009e-01],\n",
       "          [-1.4022e+00, -1.0202e+00, -7.5731e-01,  ..., -9.6791e-01, -1.0256e+00, -8.1139e-02],\n",
       "          [-1.8462e+00, -9.8481e-02, -8.2708e-01,  ..., -7.2387e-01,  5.5854e-01, -2.5266e+00]]]]), hidden_states=None, attentions=None)"
      ]
     },
     "execution_count": 11,
     "metadata": {},
     "output_type": "execute_result"
    }
   ],
   "source": [
    "outputs"
   ]
  },
  {
   "cell_type": "code",
   "execution_count": 5,
   "metadata": {},
   "outputs": [
    {
     "name": "stdout",
     "output_type": "stream",
     "text": [
      "Ultralytics YOLOv8.2.48 🚀 Python-3.10.12 torch-2.3.1 CPU (Apple M1 Pro)\n"
     ]
    },
    {
     "name": "stderr",
     "output_type": "stream",
     "text": [
      "\u001b[34m\u001b[1mval: \u001b[0mScanning /Users/dgcnz/development/amsterdam/datasets/coco/labels/val2017... 4952 images, 48 backgrounds, 0 corrupt: 100%|██████████| 5000/5000 [00:02<00:00, 1945.42it/s]\n"
     ]
    },
    {
     "name": "stdout",
     "output_type": "stream",
     "text": [
      "\u001b[34m\u001b[1mval: \u001b[0mNew cache created: /Users/dgcnz/development/amsterdam/datasets/coco/labels/val2017.cache\n"
     ]
    },
    {
     "name": "stderr",
     "output_type": "stream",
     "text": [
      "                 Class     Images  Instances      Box(P          R      mAP50  mAP50-95): 100%|██████████| 313/313 [20:21<00:00,  3.90s/it]\n"
     ]
    },
    {
     "name": "stdout",
     "output_type": "stream",
     "text": [
      "                   all       5000      36335      0.633      0.475      0.521      0.371\n",
      "                person       2693      10777      0.754      0.673      0.745      0.514\n",
      "               bicycle        149        314      0.687      0.392      0.457      0.265\n",
      "                   car        535       1918      0.646      0.515      0.561      0.364\n",
      "            motorcycle        159        367       0.71       0.58      0.655      0.414\n",
      "              airplane         97        143      0.814      0.766      0.832      0.653\n",
      "                   bus        189        283      0.746      0.643      0.739       0.62\n",
      "                 train        157        190      0.798       0.77      0.834      0.646\n",
      "                 truck        250        414      0.549      0.399      0.435      0.293\n",
      "                  boat        121        424      0.583        0.3      0.377       0.21\n",
      "         traffic light        191        634      0.644      0.345      0.409      0.211\n",
      "          fire hydrant         86        101       0.85      0.703      0.774      0.609\n",
      "             stop sign         69         75      0.695       0.64      0.692       0.63\n",
      "         parking meter         37         60      0.631        0.5      0.558      0.441\n",
      "                 bench        235        411       0.57      0.258      0.296      0.193\n",
      "                  bird        125        427      0.686      0.358      0.425      0.278\n",
      "                   cat        184        202      0.776      0.824      0.856      0.652\n",
      "                   dog        177        218      0.656      0.701      0.729      0.591\n",
      "                 horse        128        272        0.7      0.653      0.693      0.525\n",
      "                 sheep         65        354      0.609      0.667      0.662       0.46\n",
      "                   cow         87        372      0.697      0.601      0.682      0.487\n",
      "              elephant         89        252      0.702      0.833      0.821      0.629\n",
      "                  bear         49         71      0.847      0.775      0.842      0.689\n",
      "                 zebra         85        266      0.808      0.797      0.882      0.659\n",
      "               giraffe        101        232      0.857      0.828      0.885      0.683\n",
      "              backpack        228        371      0.489      0.156      0.197        0.1\n",
      "              umbrella        174        407      0.631      0.504      0.542      0.359\n",
      "               handbag        292        540      0.479      0.126      0.169     0.0848\n",
      "                   tie        145        252      0.686      0.361      0.429      0.268\n",
      "              suitcase        105        299      0.566      0.431      0.502      0.342\n",
      "               frisbee         84        115      0.748      0.774      0.767      0.584\n",
      "                  skis        120        241      0.609      0.323      0.366      0.188\n",
      "             snowboard         49         69      0.483      0.319      0.388      0.266\n",
      "           sports ball        169        260      0.713      0.438      0.474      0.328\n",
      "                  kite         91        327      0.605       0.52      0.558       0.38\n",
      "          baseball bat         97        145      0.585      0.386      0.403      0.216\n",
      "        baseball glove        100        148      0.669      0.473      0.512      0.302\n",
      "            skateboard        127        179      0.721      0.608      0.663      0.451\n",
      "             surfboard        149        267      0.624      0.473      0.507      0.309\n",
      "         tennis racket        167        225      0.702      0.618      0.671      0.397\n",
      "                bottle        379       1013      0.612      0.387      0.454      0.298\n",
      "            wine glass        110        341      0.659      0.352       0.42       0.27\n",
      "                   cup        390        895      0.584      0.443      0.488       0.35\n",
      "                  fork        155        215      0.583      0.318      0.389      0.263\n",
      "                 knife        181        325      0.505      0.163      0.174      0.106\n",
      "                 spoon        153        253       0.41      0.146       0.16     0.0988\n",
      "                  bowl        314        623      0.589      0.494      0.529       0.39\n",
      "                banana        103        370      0.549      0.319      0.374      0.233\n",
      "                 apple         76        236      0.414      0.242      0.227      0.156\n",
      "              sandwich         98        177       0.57      0.486      0.463      0.349\n",
      "                orange         85        285      0.439      0.418      0.369      0.281\n",
      "              broccoli         71        312      0.476       0.34      0.368      0.209\n",
      "                carrot         81        365      0.446      0.293      0.307      0.189\n",
      "               hot dog         51        125       0.76      0.432      0.497      0.364\n",
      "                 pizza        153        284      0.658      0.613      0.658      0.503\n",
      "                 donut         62        328      0.575      0.494      0.515      0.408\n",
      "                  cake        124        310      0.533       0.39      0.437      0.292\n",
      "                 chair        580       1771      0.581       0.34      0.403      0.257\n",
      "                 couch        195        261      0.593      0.552      0.585      0.434\n",
      "          potted plant        172        342      0.521      0.386      0.385      0.225\n",
      "                   bed        149        163       0.55      0.552      0.589      0.427\n",
      "          dining table        501        695      0.529       0.44      0.435      0.293\n",
      "                toilet        149        179      0.721      0.737      0.775      0.642\n",
      "                    tv        207        288      0.771      0.635      0.715      0.553\n",
      "                laptop        183        231      0.682      0.662      0.699       0.58\n",
      "                 mouse         88        106      0.634      0.651      0.708      0.527\n",
      "                remote        145        283       0.43      0.223       0.27       0.16\n",
      "              keyboard        106        153      0.595      0.604       0.65      0.482\n",
      "            cell phone        214        262      0.548      0.351        0.4       0.28\n",
      "             microwave         54         55      0.616      0.545      0.643      0.514\n",
      "                  oven        115        143      0.643      0.448      0.511      0.349\n",
      "               toaster          8          9      0.726      0.222      0.436      0.314\n",
      "                  sink        187        225      0.568      0.444      0.508      0.337\n",
      "          refrigerator        101        126      0.662      0.587       0.65      0.511\n",
      "                  book        230       1129      0.489      0.111      0.197     0.0969\n",
      "                 clock        204        267       0.75      0.607      0.667      0.457\n",
      "                  vase        137        274      0.588      0.453      0.453      0.321\n",
      "              scissors         28         36      0.689      0.333      0.332      0.278\n",
      "            teddy bear         94        190      0.669      0.558      0.604       0.42\n",
      "            hair drier          9         11          1          0    0.00492    0.00377\n",
      "            toothbrush         34         57      0.402      0.193      0.236      0.164\n",
      "Speed: 1.0ms preprocess, 237.0ms inference, 0.0ms loss, 1.2ms postprocess per image\n",
      "Saving /Users/dgcnz/development/amsterdam/edge/runs/detect/val2/predictions.json...\n",
      "\n",
      "Evaluating pycocotools mAP using /Users/dgcnz/development/amsterdam/edge/runs/detect/val2/predictions.json and /Users/dgcnz/development/amsterdam/datasets/coco/annotations/instances_val2017.json...\n",
      "loading annotations into memory...\n",
      "Done (t=0.23s)\n",
      "creating index...\n",
      "index created!\n",
      "Loading and preparing results...\n",
      "DONE (t=1.26s)\n",
      "creating index...\n",
      "index created!\n",
      "Running per image evaluation...\n",
      "Evaluate annotation type *bbox*\n",
      "DONE (t=26.37s).\n",
      "Accumulating evaluation results...\n",
      "DONE (t=6.88s).\n",
      " Average Precision  (AP) @[ IoU=0.50:0.95 | area=   all | maxDets=100 ] = 0.374\n",
      " Average Precision  (AP) @[ IoU=0.50      | area=   all | maxDets=100 ] = 0.526\n",
      " Average Precision  (AP) @[ IoU=0.75      | area=   all | maxDets=100 ] = 0.405\n",
      " Average Precision  (AP) @[ IoU=0.50:0.95 | area= small | maxDets=100 ] = 0.186\n",
      " Average Precision  (AP) @[ IoU=0.50:0.95 | area=medium | maxDets=100 ] = 0.410\n",
      " Average Precision  (AP) @[ IoU=0.50:0.95 | area= large | maxDets=100 ] = 0.535\n",
      " Average Recall     (AR) @[ IoU=0.50:0.95 | area=   all | maxDets=  1 ] = 0.320\n",
      " Average Recall     (AR) @[ IoU=0.50:0.95 | area=   all | maxDets= 10 ] = 0.533\n",
      " Average Recall     (AR) @[ IoU=0.50:0.95 | area=   all | maxDets=100 ] = 0.589\n",
      " Average Recall     (AR) @[ IoU=0.50:0.95 | area= small | maxDets=100 ] = 0.369\n",
      " Average Recall     (AR) @[ IoU=0.50:0.95 | area=medium | maxDets=100 ] = 0.654\n",
      " Average Recall     (AR) @[ IoU=0.50:0.95 | area= large | maxDets=100 ] = 0.768\n",
      "Results saved to \u001b[1m/Users/dgcnz/development/amsterdam/edge/runs/detect/val2\u001b[0m\n"
     ]
    }
   ],
   "source": [
    "metrics = model.val()  # evaluate model performance on the validation set\n"
   ]
  },
  {
   "cell_type": "code",
   "execution_count": null,
   "metadata": {},
   "outputs": [],
   "source": []
  }
 ],
 "metadata": {
  "kernelspec": {
   "display_name": ".venv",
   "language": "python",
   "name": "python3"
  },
  "language_info": {
   "codemirror_mode": {
    "name": "ipython",
    "version": 3
   },
   "file_extension": ".py",
   "mimetype": "text/x-python",
   "name": "python",
   "nbconvert_exporter": "python",
   "pygments_lexer": "ipython3",
   "version": "3.10.12"
  }
 },
 "nbformat": 4,
 "nbformat_minor": 2
}
