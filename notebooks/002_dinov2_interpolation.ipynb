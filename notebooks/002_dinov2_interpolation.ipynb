{
 "cells": [
  {
   "cell_type": "code",
   "execution_count": null,
   "metadata": {},
   "outputs": [],
   "source": [
    "from timm.models.vision_transformer import vit_base_patch14_dinov2, checkpoint_filter_fn\n",
    "from timm.models.helpers import load_pretrained\n",
    "from functools import partial\n",
    "import timm\n",
    "import torch"
   ]
  },
  {
   "cell_type": "code",
   "execution_count": null,
   "metadata": {},
   "outputs": [],
   "source": [
    "dinov2.patch_embed.proj.weight[0, 0, 0]"
   ]
  },
  {
   "cell_type": "code",
   "execution_count": null,
   "metadata": {},
   "outputs": [],
   "source": [
    "dinov2 = timm.create_model('vit_base_patch14_dinov2.lvd142m', pretrained=True).eval()"
   ]
  },
  {
   "cell_type": "code",
   "execution_count": null,
   "metadata": {},
   "outputs": [],
   "source": [
    "original_patch_embed = dinov2.patch_embed.proj.weight.clone().detach()"
   ]
  },
  {
   "cell_type": "code",
   "execution_count": null,
   "metadata": {},
   "outputs": [],
   "source": [
    "dino_b16 = vit_base_patch14_dinov2(pretrained=False, patch_size=16)"
   ]
  },
  {
   "cell_type": "code",
   "execution_count": null,
   "metadata": {},
   "outputs": [],
   "source": [
    "raw_patch_embed = dino_b16.patch_embed.proj.weight.clone()"
   ]
  },
  {
   "cell_type": "code",
   "execution_count": null,
   "metadata": {},
   "outputs": [],
   "source": [
    "load_pretrained(dino_b16, pretrained_cfg={\"file\": \"../artifacts/interpolated.pth\"}, filter_fn=checkpoint_filter_fn)"
   ]
  },
  {
   "cell_type": "code",
   "execution_count": null,
   "metadata": {},
   "outputs": [],
   "source": [
    "manual_interpolation_patch_embed = dino_b16.patch_embed.proj.weight.clone()"
   ]
  },
  {
   "cell_type": "code",
   "execution_count": null,
   "metadata": {},
   "outputs": [],
   "source": [
    "load_pretrained(dino_b16, pretrained_cfg={\"file\": \"../artifacts/dinov2_vitb14_pretrain.pth\"}, filter_fn=partial(checkpoint_filter_fn))\n",
    "# also: dinov2 = timm.create_model('vit_base_patch14_dinov2.lvd142m', pretrained=True, patch_size=16).eval()"
   ]
  },
  {
   "cell_type": "code",
   "execution_count": null,
   "metadata": {},
   "outputs": [],
   "source": [
    "timm_interpolation_patch_embed = dino_b16.patch_embed.proj.weight.clone()"
   ]
  },
  {
   "cell_type": "code",
   "execution_count": null,
   "metadata": {},
   "outputs": [],
   "source": [
    "# import plot\n",
    "# plot  the histograms of both patch_embeds from dino_b16_2 and dino_b16\n",
    "\n",
    "from plotly.subplots import make_subplots\n",
    "import plotly.graph_objects as go\n",
    "fig = make_subplots(rows=2, cols=2, subplot_titles=(\"Pretrained 14x14\", \"Initialized 16x16\", \"Manual Interpolated 14x14->16x16\", \"Timm Interpolated 14x14->16x16\"))\n",
    "fig.add_trace(go.Histogram(x=original_patch_embed.flatten().detach().numpy()), row=1, col=1)\n",
    "fig.add_trace(go.Histogram(x=raw_patch_embed.flatten().detach().numpy()), row=1, col=2)\n",
    "fig.add_trace(go.Histogram(x=manual_interpolation_patch_embed.flatten().detach().numpy()), row=2, col=1)\n",
    "fig.add_trace(go.Histogram(x=timm_interpolation_patch_embed.flatten().detach().numpy()), row=2, col=2)\n",
    "# hide legend\n",
    "fig.update_layout(showlegend=False)\n",
    "\n",
    "fig.show()\n"
   ]
  },
  {
   "cell_type": "code",
   "execution_count": null,
   "metadata": {},
   "outputs": [],
   "source": [
    "dinov2 = timm.create_model('vit_base_patch14_dinov2.lvd142m', pretrained=True, patch_size=16, features_only=True, out_indices=(-1, )).eval()"
   ]
  }
 ],
 "metadata": {
  "kernelspec": {
   "display_name": ".venv",
   "language": "python",
   "name": "python3"
  },
  "language_info": {
   "codemirror_mode": {
    "name": "ipython",
    "version": 3
   },
   "file_extension": ".py",
   "mimetype": "text/x-python",
   "name": "python",
   "nbconvert_exporter": "python",
   "pygments_lexer": "ipython3",
   "version": "3.10.12"
  }
 },
 "nbformat": 4,
 "nbformat_minor": 2
}
