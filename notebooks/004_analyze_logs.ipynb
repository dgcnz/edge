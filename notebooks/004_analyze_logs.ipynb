{
 "cells": [
  {
   "cell_type": "markdown",
   "metadata": {},
   "source": [
    "# Analyzing logs"
   ]
  },
  {
   "cell_type": "code",
   "execution_count": 34,
   "metadata": {},
   "outputs": [],
   "source": [
    "from typing import Optional\n",
    "import fabric\n",
    "from pathlib import Path\n",
    "import re\n",
    "import pandas as pd\n",
    "\n",
    "class LocalWandbApi(object):\n",
    "    def __init__(self, project_dir: str, ssh_host: Optional[str] = None):\n",
    "        self.project_dir = project_dir\n",
    "        self.ssh_host = ssh_host\n",
    "        self.runner = fabric.Connection(ssh_host) if ssh_host else None\n",
    "        self.wandb_dir = f\"{self.project_dir}/detrex/wandb_output/wandb\"\n",
    "        self.folder_pat = re.compile(r\"run-\\d{8}_\\d{6}-\\w{7}\")\n",
    "    \n",
    "    def list_runs(self) -> dict[str, Path]: \n",
    "        \"\"\" Return a dictionary run_id: run_folder. \"\"\"\n",
    "        output = self.runner.run(f\"ls {self.wandb_dir}\", hide=True).stdout\n",
    "        folders = output.split(\"\\n\")\n",
    "        runs = {run.split(\"-\")[-1]: Path(f\"{self.wandb_dir}/{run}\") for run in folders if self.folder_pat.match(run)}\n",
    "        return runs\n",
    "\n",
    "\n",
    "    def get_run_folder(self, run_id: str) -> Path:\n",
    "        \"\"\" Return the folder of a run. \"\"\"\n",
    "        # Example: run-20240805_162409-67c1veuz\n",
    "        runs = self.list_runs()\n",
    "        return runs[run_id]\n",
    "    \n",
    "    def get_run_logs_raw(self, run_id: str) -> str:\n",
    "        \"\"\" Return the raw logs of a run. \"\"\"\n",
    "        run_folder = self.get_run_folder(run_id)\n",
    "        output = self.runner.run(f\"cat {run_folder}/files/output.log\", hide=True).stdout\n",
    "        files = output.split(\"\\n\")\n",
    "        return files\n",
    "    \n",
    "    def get_run_logs(self, run_id: str) -> pd.DataFrame:\n",
    "        \"\"\" Return a DataFrame with columns date, time, logger, message. \"\"\"\n",
    "        logs = self.get_run_logs_raw(run_id)\n",
    "        pat = re.compile(r\"^\\[(\\d{2}/\\d{2}) (\\d{2}:\\d{2}:\\d{2}) (.*)\\]: (.+)\")\n",
    "        data = []\n",
    "        columns = [\"date\", \"time\", \"logger\", \"message\"]\n",
    "        for log in logs:\n",
    "            # filter rows that do not contain logger prefix \n",
    "            # Examples:\n",
    "            # [08/05 18:18:58 d2.evaluation.evaluator]: asdfsadfj asdfas\n",
    "            # [08/05 18:20:13 d2.evaluation.fast_eval_api]: asdfsdf asdfasd\n",
    "            match = pat.match(log)\n",
    "            if match:\n",
    "                data.append(match.groups())\n",
    "        df = pd.DataFrame(data, columns=columns)\n",
    "        return df"
   ]
  },
  {
   "cell_type": "code",
   "execution_count": 35,
   "metadata": {},
   "outputs": [
    {
     "data": {
      "text/plain": [
       "{'t0i3c54i': PosixPath('~/development/edge/detrex/wandb_output/wandb/run-20240802_161521-t0i3c54i'),\n",
       " 'pt1ugkkz': PosixPath('~/development/edge/detrex/wandb_output/wandb/run-20240802_180626-pt1ugkkz')}"
      ]
     },
     "execution_count": 35,
     "metadata": {},
     "output_type": "execute_result"
    }
   ],
   "source": [
    "api = LocalWandbApi(\"~/development/edge\", ssh_host=\"amsterdam\")\n",
    "dict(list(api.list_runs().items())[:2])"
   ]
  },
  {
   "cell_type": "code",
   "execution_count": 59,
   "metadata": {},
   "outputs": [],
   "source": [
    "logsdf = api.get_run_logs(run_id=\"mzczh48c\")"
   ]
  },
  {
   "cell_type": "code",
   "execution_count": 60,
   "metadata": {},
   "outputs": [
    {
     "data": {
      "text/html": [
       "<div>\n",
       "<style scoped>\n",
       "    .dataframe tbody tr th:only-of-type {\n",
       "        vertical-align: middle;\n",
       "    }\n",
       "\n",
       "    .dataframe tbody tr th {\n",
       "        vertical-align: top;\n",
       "    }\n",
       "\n",
       "    .dataframe thead th {\n",
       "        text-align: right;\n",
       "    }\n",
       "</style>\n",
       "<table border=\"1\" class=\"dataframe\">\n",
       "  <thead>\n",
       "    <tr style=\"text-align: right;\">\n",
       "      <th></th>\n",
       "      <th>date</th>\n",
       "      <th>time</th>\n",
       "      <th>logger</th>\n",
       "      <th>message</th>\n",
       "      <th>iter</th>\n",
       "      <th>datetime</th>\n",
       "      <th>timestamp</th>\n",
       "      <th>timestamp_delta</th>\n",
       "    </tr>\n",
       "  </thead>\n",
       "  <tbody>\n",
       "    <tr>\n",
       "      <th>4</th>\n",
       "      <td>08/05</td>\n",
       "      <td>15:23:02</td>\n",
       "      <td>d2.utils.events</td>\n",
       "      <td>eta: 2:08:55  iter: 82519  total_loss: 10.74 ...</td>\n",
       "      <td>82519</td>\n",
       "      <td>2024-08-05 15:23:02</td>\n",
       "      <td>1722871382</td>\n",
       "      <td>0</td>\n",
       "    </tr>\n",
       "    <tr>\n",
       "      <th>5</th>\n",
       "      <td>08/05</td>\n",
       "      <td>15:23:25</td>\n",
       "      <td>d2.utils.events</td>\n",
       "      <td>eta: 2:06:55  iter: 82539  total_loss: 10.18 ...</td>\n",
       "      <td>82539</td>\n",
       "      <td>2024-08-05 15:23:25</td>\n",
       "      <td>1722871405</td>\n",
       "      <td>23</td>\n",
       "    </tr>\n",
       "    <tr>\n",
       "      <th>6</th>\n",
       "      <td>08/05</td>\n",
       "      <td>15:23:44</td>\n",
       "      <td>d2.utils.events</td>\n",
       "      <td>eta: 2:02:15  iter: 82559  total_loss: 10.25 ...</td>\n",
       "      <td>82559</td>\n",
       "      <td>2024-08-05 15:23:44</td>\n",
       "      <td>1722871424</td>\n",
       "      <td>42</td>\n",
       "    </tr>\n",
       "    <tr>\n",
       "      <th>7</th>\n",
       "      <td>08/05</td>\n",
       "      <td>15:24:07</td>\n",
       "      <td>d2.utils.events</td>\n",
       "      <td>eta: 2:01:55  iter: 82579  total_loss: 10.01 ...</td>\n",
       "      <td>82579</td>\n",
       "      <td>2024-08-05 15:24:07</td>\n",
       "      <td>1722871447</td>\n",
       "      <td>65</td>\n",
       "    </tr>\n",
       "    <tr>\n",
       "      <th>8</th>\n",
       "      <td>08/05</td>\n",
       "      <td>15:24:26</td>\n",
       "      <td>d2.utils.events</td>\n",
       "      <td>eta: 2:01:13  iter: 82599  total_loss: 10.36 ...</td>\n",
       "      <td>82599</td>\n",
       "      <td>2024-08-05 15:24:26</td>\n",
       "      <td>1722871466</td>\n",
       "      <td>84</td>\n",
       "    </tr>\n",
       "    <tr>\n",
       "      <th>...</th>\n",
       "      <td>...</td>\n",
       "      <td>...</td>\n",
       "      <td>...</td>\n",
       "      <td>...</td>\n",
       "      <td>...</td>\n",
       "      <td>...</td>\n",
       "      <td>...</td>\n",
       "      <td>...</td>\n",
       "    </tr>\n",
       "    <tr>\n",
       "      <th>187</th>\n",
       "      <td>08/05</td>\n",
       "      <td>16:08:18</td>\n",
       "      <td>d2.utils.events</td>\n",
       "      <td>eta: 1:22:14  iter: 85019  total_loss: 9.656 ...</td>\n",
       "      <td>85019</td>\n",
       "      <td>2024-08-05 16:08:18</td>\n",
       "      <td>1722874098</td>\n",
       "      <td>2716</td>\n",
       "    </tr>\n",
       "    <tr>\n",
       "      <th>188</th>\n",
       "      <td>08/05</td>\n",
       "      <td>16:08:38</td>\n",
       "      <td>d2.utils.events</td>\n",
       "      <td>eta: 1:22:00  iter: 85039  total_loss: 9.582 ...</td>\n",
       "      <td>85039</td>\n",
       "      <td>2024-08-05 16:08:38</td>\n",
       "      <td>1722874118</td>\n",
       "      <td>2736</td>\n",
       "    </tr>\n",
       "    <tr>\n",
       "      <th>189</th>\n",
       "      <td>08/05</td>\n",
       "      <td>16:08:58</td>\n",
       "      <td>d2.utils.events</td>\n",
       "      <td>eta: 1:21:39  iter: 85059  total_loss: 10.31 ...</td>\n",
       "      <td>85059</td>\n",
       "      <td>2024-08-05 16:08:58</td>\n",
       "      <td>1722874138</td>\n",
       "      <td>2756</td>\n",
       "    </tr>\n",
       "    <tr>\n",
       "      <th>190</th>\n",
       "      <td>08/05</td>\n",
       "      <td>16:09:17</td>\n",
       "      <td>d2.utils.events</td>\n",
       "      <td>eta: 1:21:12  iter: 85079  total_loss: 9.904 ...</td>\n",
       "      <td>85079</td>\n",
       "      <td>2024-08-05 16:09:17</td>\n",
       "      <td>1722874157</td>\n",
       "      <td>2775</td>\n",
       "    </tr>\n",
       "    <tr>\n",
       "      <th>191</th>\n",
       "      <td>08/05</td>\n",
       "      <td>16:09:37</td>\n",
       "      <td>d2.utils.events</td>\n",
       "      <td>eta: 1:20:51  iter: 85099  total_loss: 9.701 ...</td>\n",
       "      <td>85099</td>\n",
       "      <td>2024-08-05 16:09:37</td>\n",
       "      <td>1722874177</td>\n",
       "      <td>2795</td>\n",
       "    </tr>\n",
       "  </tbody>\n",
       "</table>\n",
       "<p>130 rows × 8 columns</p>\n",
       "</div>"
      ],
      "text/plain": [
       "      date      time           logger  \\\n",
       "4    08/05  15:23:02  d2.utils.events   \n",
       "5    08/05  15:23:25  d2.utils.events   \n",
       "6    08/05  15:23:44  d2.utils.events   \n",
       "7    08/05  15:24:07  d2.utils.events   \n",
       "8    08/05  15:24:26  d2.utils.events   \n",
       "..     ...       ...              ...   \n",
       "187  08/05  16:08:18  d2.utils.events   \n",
       "188  08/05  16:08:38  d2.utils.events   \n",
       "189  08/05  16:08:58  d2.utils.events   \n",
       "190  08/05  16:09:17  d2.utils.events   \n",
       "191  08/05  16:09:37  d2.utils.events   \n",
       "\n",
       "                                               message   iter  \\\n",
       "4     eta: 2:08:55  iter: 82519  total_loss: 10.74 ...  82519   \n",
       "5     eta: 2:06:55  iter: 82539  total_loss: 10.18 ...  82539   \n",
       "6     eta: 2:02:15  iter: 82559  total_loss: 10.25 ...  82559   \n",
       "7     eta: 2:01:55  iter: 82579  total_loss: 10.01 ...  82579   \n",
       "8     eta: 2:01:13  iter: 82599  total_loss: 10.36 ...  82599   \n",
       "..                                                 ...    ...   \n",
       "187   eta: 1:22:14  iter: 85019  total_loss: 9.656 ...  85019   \n",
       "188   eta: 1:22:00  iter: 85039  total_loss: 9.582 ...  85039   \n",
       "189   eta: 1:21:39  iter: 85059  total_loss: 10.31 ...  85059   \n",
       "190   eta: 1:21:12  iter: 85079  total_loss: 9.904 ...  85079   \n",
       "191   eta: 1:20:51  iter: 85099  total_loss: 9.701 ...  85099   \n",
       "\n",
       "               datetime   timestamp  timestamp_delta  \n",
       "4   2024-08-05 15:23:02  1722871382                0  \n",
       "5   2024-08-05 15:23:25  1722871405               23  \n",
       "6   2024-08-05 15:23:44  1722871424               42  \n",
       "7   2024-08-05 15:24:07  1722871447               65  \n",
       "8   2024-08-05 15:24:26  1722871466               84  \n",
       "..                  ...         ...              ...  \n",
       "187 2024-08-05 16:08:18  1722874098             2716  \n",
       "188 2024-08-05 16:08:38  1722874118             2736  \n",
       "189 2024-08-05 16:08:58  1722874138             2756  \n",
       "190 2024-08-05 16:09:17  1722874157             2775  \n",
       "191 2024-08-05 16:09:37  1722874177             2795  \n",
       "\n",
       "[130 rows x 8 columns]"
      ]
     },
     "execution_count": 60,
     "metadata": {},
     "output_type": "execute_result"
    }
   ],
   "source": [
    "from datetime import datetime\n",
    "logsdf = logsdf[logsdf.logger == \"d2.utils.events\"]\n",
    "logsdf[\"iter\"] = logsdf.message.str.extract(r\"iter: (\\d+)\").astype(int)\n",
    "# logsdf[\"date\"] in format mm/dd, assume year 2024\n",
    "# logsdf[\"time\"] in format hh:mm:ss\n",
    "logsdf[\"datetime\"] = logsdf.apply(lambda x: datetime.strptime(f\"2024-{x.date} {x.time}\", \"%Y-%m/%d %H:%M:%S\"), axis=1)\n",
    "# timestamp in seconds\n",
    "logsdf[\"timestamp\"] = logsdf.datetime.astype(int) // 10**9\n",
    "logsdf[\"timestamp_delta\"] = logsdf.timestamp - logsdf.timestamp.min()\n",
    "logsdf\n"
   ]
  },
  {
   "cell_type": "code",
   "execution_count": 72,
   "metadata": {},
   "outputs": [
    {
     "data": {
      "application/vnd.plotly.v1+json": {
       "config": {
        "plotlyServerURL": "https://plot.ly"
       },
       "data": [
        {
         "mode": "markers",
         "name": "data",
         "type": "scatter",
         "x": [
          82519,
          82539,
          82559,
          82579,
          82599,
          82619,
          82639,
          82659,
          82679,
          82699,
          82719,
          82739,
          82759,
          82779,
          82799,
          82819,
          82839,
          82859,
          82879,
          82899,
          82919,
          82939,
          82959,
          82979,
          82999,
          83019,
          83039,
          83059,
          83079,
          83099,
          83119,
          83139,
          83159,
          83179,
          83199,
          83219,
          83239,
          83259,
          83279,
          83299,
          83319,
          83339,
          83359,
          83379,
          83399,
          83419,
          83439,
          83459,
          83479,
          83499,
          83519,
          83539,
          83559,
          83579,
          83599,
          83619,
          83639,
          83659,
          83679,
          83699,
          83719,
          83739,
          83759,
          83779,
          83799,
          83819,
          83839,
          83859,
          83879,
          83899,
          83919,
          83939,
          83959,
          83979,
          83999,
          84019,
          84039,
          84059,
          84079,
          84099,
          84119,
          84139,
          84159,
          84179,
          84199,
          84219,
          84239,
          84259,
          84279,
          84299,
          84319,
          84339,
          84359,
          84379,
          84399,
          84419,
          84439,
          84459,
          84479,
          84499,
          84519,
          84539,
          84559,
          84579,
          84599,
          84619,
          84639,
          84659,
          84679,
          84699,
          84719,
          84739,
          84759,
          84779,
          84799,
          84819,
          84839,
          84859,
          84879,
          84899,
          84919,
          84939,
          84959,
          84979,
          84999,
          85019,
          85039,
          85059,
          85079,
          85099
         ],
         "y": [
          0,
          23,
          42,
          65,
          84,
          105,
          125,
          144,
          166,
          186,
          207,
          227,
          248,
          268,
          287,
          307,
          329,
          349,
          370,
          390,
          410,
          429,
          449,
          468,
          488,
          506,
          526,
          546,
          565,
          585,
          606,
          625,
          645,
          664,
          684,
          704,
          723,
          742,
          762,
          781,
          801,
          821,
          841,
          861,
          882,
          902,
          921,
          941,
          962,
          982,
          1002,
          1022,
          1042,
          1061,
          1081,
          1102,
          1121,
          1141,
          1160,
          1179,
          1199,
          1219,
          1238,
          1258,
          1278,
          1297,
          1317,
          1336,
          1355,
          1375,
          1394,
          1414,
          1434,
          1454,
          1472,
          1492,
          1512,
          1532,
          1553,
          1572,
          1592,
          1611,
          1631,
          1650,
          1670,
          1690,
          1710,
          1730,
          1750,
          1770,
          1790,
          1811,
          1831,
          1851,
          1871,
          1891,
          1910,
          1930,
          1950,
          1970,
          1989,
          2009,
          2028,
          2048,
          2067,
          2087,
          2106,
          2125,
          2145,
          2164,
          2184,
          2204,
          2224,
          2245,
          2265,
          2285,
          2305,
          2325,
          2344,
          2364,
          2383,
          2403,
          2422,
          2443,
          2695,
          2716,
          2736,
          2756,
          2775,
          2795
         ]
        },
        {
         "name": "fit",
         "type": "scatter",
         "x": [
          82519,
          82539,
          82559,
          82579,
          82599,
          82619,
          82639,
          82659,
          82679,
          82699,
          82719,
          82739,
          82759,
          82779,
          82799,
          82819,
          82839,
          82859,
          82879,
          82899,
          82919,
          82939,
          82959,
          82979,
          82999,
          83019,
          83039,
          83059,
          83079,
          83099,
          83119,
          83139,
          83159,
          83179,
          83199,
          83219,
          83239,
          83259,
          83279,
          83299,
          83319,
          83339,
          83359,
          83379,
          83399,
          83419,
          83439,
          83459,
          83479,
          83499,
          83519,
          83539,
          83559,
          83579,
          83599,
          83619,
          83639,
          83659,
          83679,
          83699,
          83719,
          83739,
          83759,
          83779,
          83799,
          83819,
          83839,
          83859,
          83879,
          83899,
          83919,
          83939,
          83959,
          83979,
          83999,
          84019,
          84039,
          84059,
          84079,
          84099,
          84119,
          84139,
          84159,
          84179,
          84199,
          84219,
          84239,
          84259,
          84279,
          84299,
          84319,
          84339,
          84359,
          84379,
          84399,
          84419,
          84439,
          84459,
          84479,
          84499,
          84519,
          84539,
          84559,
          84579,
          84599,
          84619,
          84639,
          84659,
          84679,
          84699,
          84719,
          84739,
          84759,
          84779,
          84799,
          84819,
          84839,
          84859,
          84879,
          84899,
          84919,
          84939,
          84959,
          84979,
          84999,
          85019,
          85039,
          85059,
          85079,
          85099
         ],
         "y": [
          -9.518733365242952,
          10.736416943342192,
          30.991567251927336,
          51.24671756051248,
          71.50186786909762,
          91.75701817768277,
          112.01216848626791,
          132.26731879485305,
          152.5224691034382,
          172.77761941202334,
          193.03276972060848,
          213.28792002919363,
          233.54307033777877,
          253.79822064636392,
          274.05337095494906,
          294.3085212635342,
          314.56367157211935,
          334.8188218807045,
          355.07397218928963,
          375.3291224978748,
          395.58427280644537,
          415.8394231150305,
          436.09457342361566,
          456.3497237322008,
          476.60487404078594,
          496.8600243493711,
          517.1151746579562,
          537.3703249665414,
          557.6254752751265,
          577.8806255837117,
          598.1357758922968,
          618.390926200882,
          638.6460765094671,
          658.9012268180522,
          679.1563771266374,
          699.4115274352225,
          719.6666777438077,
          739.9218280523928,
          760.176978360978,
          780.4321286695631,
          800.6872789781482,
          820.9424292867334,
          841.1975795953185,
          861.4527299039037,
          881.7078802124888,
          901.963030521074,
          922.2181808296591,
          942.4733311382442,
          962.7284814468148,
          982.9836317554,
          1003.2387820639851,
          1023.4939323725703,
          1043.7490826811554,
          1064.0042329897406,
          1084.2593832983257,
          1104.5145336069108,
          1124.769683915496,
          1145.0248342240811,
          1165.2799845326663,
          1185.5351348412514,
          1205.7902851498366,
          1226.0454354584217,
          1246.3005857670069,
          1266.555736075592,
          1286.8108863841771,
          1307.0660366927623,
          1327.3211870013474,
          1347.5763373099326,
          1367.8314876185177,
          1388.0866379271029,
          1408.341788235688,
          1428.5969385442731,
          1448.8520888528583,
          1469.1072391614434,
          1489.3623894700286,
          1509.6175397786137,
          1529.8726900871843,
          1550.1278403957695,
          1570.3829907043546,
          1590.6381410129397,
          1610.8932913215249,
          1631.14844163011,
          1651.4035919386952,
          1671.6587422472803,
          1691.9138925558655,
          1712.1690428644506,
          1732.4241931730357,
          1752.679343481621,
          1772.934493790206,
          1793.1896440987912,
          1813.4447944073763,
          1833.6999447159615,
          1853.9550950245466,
          1874.2102453331318,
          1894.465395641717,
          1914.720545950302,
          1934.9756962588872,
          1955.2308465674723,
          1975.4859968760575,
          1995.7411471846426,
          2015.9962974932278,
          2036.251447801813,
          2056.506598110398,
          2076.761748418983,
          2097.0168987275683,
          2117.272049036139,
          2137.527199344724,
          2157.782349653309,
          2178.0374999618944,
          2198.2926502704795,
          2218.5478005790646,
          2238.80295088765,
          2259.058101196235,
          2279.31325150482,
          2299.568401813405,
          2319.8235521219904,
          2340.0787024305755,
          2360.3338527391606,
          2380.589003047746,
          2400.844153356331,
          2421.099303664916,
          2441.354453973501,
          2461.6096042820864,
          2481.8647545906715,
          2502.1199048992567,
          2522.375055207842,
          2542.630205516427,
          2562.885355825012,
          2583.1405061335972,
          2603.3956564421824
         ]
        }
       ],
       "layout": {
        "showlegend": true,
        "template": {
         "data": {
          "bar": [
           {
            "error_x": {
             "color": "#2a3f5f"
            },
            "error_y": {
             "color": "#2a3f5f"
            },
            "marker": {
             "line": {
              "color": "#E5ECF6",
              "width": 0.5
             },
             "pattern": {
              "fillmode": "overlay",
              "size": 10,
              "solidity": 0.2
             }
            },
            "type": "bar"
           }
          ],
          "barpolar": [
           {
            "marker": {
             "line": {
              "color": "#E5ECF6",
              "width": 0.5
             },
             "pattern": {
              "fillmode": "overlay",
              "size": 10,
              "solidity": 0.2
             }
            },
            "type": "barpolar"
           }
          ],
          "carpet": [
           {
            "aaxis": {
             "endlinecolor": "#2a3f5f",
             "gridcolor": "white",
             "linecolor": "white",
             "minorgridcolor": "white",
             "startlinecolor": "#2a3f5f"
            },
            "baxis": {
             "endlinecolor": "#2a3f5f",
             "gridcolor": "white",
             "linecolor": "white",
             "minorgridcolor": "white",
             "startlinecolor": "#2a3f5f"
            },
            "type": "carpet"
           }
          ],
          "choropleth": [
           {
            "colorbar": {
             "outlinewidth": 0,
             "ticks": ""
            },
            "type": "choropleth"
           }
          ],
          "contour": [
           {
            "colorbar": {
             "outlinewidth": 0,
             "ticks": ""
            },
            "colorscale": [
             [
              0,
              "#0d0887"
             ],
             [
              0.1111111111111111,
              "#46039f"
             ],
             [
              0.2222222222222222,
              "#7201a8"
             ],
             [
              0.3333333333333333,
              "#9c179e"
             ],
             [
              0.4444444444444444,
              "#bd3786"
             ],
             [
              0.5555555555555556,
              "#d8576b"
             ],
             [
              0.6666666666666666,
              "#ed7953"
             ],
             [
              0.7777777777777778,
              "#fb9f3a"
             ],
             [
              0.8888888888888888,
              "#fdca26"
             ],
             [
              1,
              "#f0f921"
             ]
            ],
            "type": "contour"
           }
          ],
          "contourcarpet": [
           {
            "colorbar": {
             "outlinewidth": 0,
             "ticks": ""
            },
            "type": "contourcarpet"
           }
          ],
          "heatmap": [
           {
            "colorbar": {
             "outlinewidth": 0,
             "ticks": ""
            },
            "colorscale": [
             [
              0,
              "#0d0887"
             ],
             [
              0.1111111111111111,
              "#46039f"
             ],
             [
              0.2222222222222222,
              "#7201a8"
             ],
             [
              0.3333333333333333,
              "#9c179e"
             ],
             [
              0.4444444444444444,
              "#bd3786"
             ],
             [
              0.5555555555555556,
              "#d8576b"
             ],
             [
              0.6666666666666666,
              "#ed7953"
             ],
             [
              0.7777777777777778,
              "#fb9f3a"
             ],
             [
              0.8888888888888888,
              "#fdca26"
             ],
             [
              1,
              "#f0f921"
             ]
            ],
            "type": "heatmap"
           }
          ],
          "heatmapgl": [
           {
            "colorbar": {
             "outlinewidth": 0,
             "ticks": ""
            },
            "colorscale": [
             [
              0,
              "#0d0887"
             ],
             [
              0.1111111111111111,
              "#46039f"
             ],
             [
              0.2222222222222222,
              "#7201a8"
             ],
             [
              0.3333333333333333,
              "#9c179e"
             ],
             [
              0.4444444444444444,
              "#bd3786"
             ],
             [
              0.5555555555555556,
              "#d8576b"
             ],
             [
              0.6666666666666666,
              "#ed7953"
             ],
             [
              0.7777777777777778,
              "#fb9f3a"
             ],
             [
              0.8888888888888888,
              "#fdca26"
             ],
             [
              1,
              "#f0f921"
             ]
            ],
            "type": "heatmapgl"
           }
          ],
          "histogram": [
           {
            "marker": {
             "pattern": {
              "fillmode": "overlay",
              "size": 10,
              "solidity": 0.2
             }
            },
            "type": "histogram"
           }
          ],
          "histogram2d": [
           {
            "colorbar": {
             "outlinewidth": 0,
             "ticks": ""
            },
            "colorscale": [
             [
              0,
              "#0d0887"
             ],
             [
              0.1111111111111111,
              "#46039f"
             ],
             [
              0.2222222222222222,
              "#7201a8"
             ],
             [
              0.3333333333333333,
              "#9c179e"
             ],
             [
              0.4444444444444444,
              "#bd3786"
             ],
             [
              0.5555555555555556,
              "#d8576b"
             ],
             [
              0.6666666666666666,
              "#ed7953"
             ],
             [
              0.7777777777777778,
              "#fb9f3a"
             ],
             [
              0.8888888888888888,
              "#fdca26"
             ],
             [
              1,
              "#f0f921"
             ]
            ],
            "type": "histogram2d"
           }
          ],
          "histogram2dcontour": [
           {
            "colorbar": {
             "outlinewidth": 0,
             "ticks": ""
            },
            "colorscale": [
             [
              0,
              "#0d0887"
             ],
             [
              0.1111111111111111,
              "#46039f"
             ],
             [
              0.2222222222222222,
              "#7201a8"
             ],
             [
              0.3333333333333333,
              "#9c179e"
             ],
             [
              0.4444444444444444,
              "#bd3786"
             ],
             [
              0.5555555555555556,
              "#d8576b"
             ],
             [
              0.6666666666666666,
              "#ed7953"
             ],
             [
              0.7777777777777778,
              "#fb9f3a"
             ],
             [
              0.8888888888888888,
              "#fdca26"
             ],
             [
              1,
              "#f0f921"
             ]
            ],
            "type": "histogram2dcontour"
           }
          ],
          "mesh3d": [
           {
            "colorbar": {
             "outlinewidth": 0,
             "ticks": ""
            },
            "type": "mesh3d"
           }
          ],
          "parcoords": [
           {
            "line": {
             "colorbar": {
              "outlinewidth": 0,
              "ticks": ""
             }
            },
            "type": "parcoords"
           }
          ],
          "pie": [
           {
            "automargin": true,
            "type": "pie"
           }
          ],
          "scatter": [
           {
            "fillpattern": {
             "fillmode": "overlay",
             "size": 10,
             "solidity": 0.2
            },
            "type": "scatter"
           }
          ],
          "scatter3d": [
           {
            "line": {
             "colorbar": {
              "outlinewidth": 0,
              "ticks": ""
             }
            },
            "marker": {
             "colorbar": {
              "outlinewidth": 0,
              "ticks": ""
             }
            },
            "type": "scatter3d"
           }
          ],
          "scattercarpet": [
           {
            "marker": {
             "colorbar": {
              "outlinewidth": 0,
              "ticks": ""
             }
            },
            "type": "scattercarpet"
           }
          ],
          "scattergeo": [
           {
            "marker": {
             "colorbar": {
              "outlinewidth": 0,
              "ticks": ""
             }
            },
            "type": "scattergeo"
           }
          ],
          "scattergl": [
           {
            "marker": {
             "colorbar": {
              "outlinewidth": 0,
              "ticks": ""
             }
            },
            "type": "scattergl"
           }
          ],
          "scattermapbox": [
           {
            "marker": {
             "colorbar": {
              "outlinewidth": 0,
              "ticks": ""
             }
            },
            "type": "scattermapbox"
           }
          ],
          "scatterpolar": [
           {
            "marker": {
             "colorbar": {
              "outlinewidth": 0,
              "ticks": ""
             }
            },
            "type": "scatterpolar"
           }
          ],
          "scatterpolargl": [
           {
            "marker": {
             "colorbar": {
              "outlinewidth": 0,
              "ticks": ""
             }
            },
            "type": "scatterpolargl"
           }
          ],
          "scatterternary": [
           {
            "marker": {
             "colorbar": {
              "outlinewidth": 0,
              "ticks": ""
             }
            },
            "type": "scatterternary"
           }
          ],
          "surface": [
           {
            "colorbar": {
             "outlinewidth": 0,
             "ticks": ""
            },
            "colorscale": [
             [
              0,
              "#0d0887"
             ],
             [
              0.1111111111111111,
              "#46039f"
             ],
             [
              0.2222222222222222,
              "#7201a8"
             ],
             [
              0.3333333333333333,
              "#9c179e"
             ],
             [
              0.4444444444444444,
              "#bd3786"
             ],
             [
              0.5555555555555556,
              "#d8576b"
             ],
             [
              0.6666666666666666,
              "#ed7953"
             ],
             [
              0.7777777777777778,
              "#fb9f3a"
             ],
             [
              0.8888888888888888,
              "#fdca26"
             ],
             [
              1,
              "#f0f921"
             ]
            ],
            "type": "surface"
           }
          ],
          "table": [
           {
            "cells": {
             "fill": {
              "color": "#EBF0F8"
             },
             "line": {
              "color": "white"
             }
            },
            "header": {
             "fill": {
              "color": "#C8D4E3"
             },
             "line": {
              "color": "white"
             }
            },
            "type": "table"
           }
          ]
         },
         "layout": {
          "annotationdefaults": {
           "arrowcolor": "#2a3f5f",
           "arrowhead": 0,
           "arrowwidth": 1
          },
          "autotypenumbers": "strict",
          "coloraxis": {
           "colorbar": {
            "outlinewidth": 0,
            "ticks": ""
           }
          },
          "colorscale": {
           "diverging": [
            [
             0,
             "#8e0152"
            ],
            [
             0.1,
             "#c51b7d"
            ],
            [
             0.2,
             "#de77ae"
            ],
            [
             0.3,
             "#f1b6da"
            ],
            [
             0.4,
             "#fde0ef"
            ],
            [
             0.5,
             "#f7f7f7"
            ],
            [
             0.6,
             "#e6f5d0"
            ],
            [
             0.7,
             "#b8e186"
            ],
            [
             0.8,
             "#7fbc41"
            ],
            [
             0.9,
             "#4d9221"
            ],
            [
             1,
             "#276419"
            ]
           ],
           "sequential": [
            [
             0,
             "#0d0887"
            ],
            [
             0.1111111111111111,
             "#46039f"
            ],
            [
             0.2222222222222222,
             "#7201a8"
            ],
            [
             0.3333333333333333,
             "#9c179e"
            ],
            [
             0.4444444444444444,
             "#bd3786"
            ],
            [
             0.5555555555555556,
             "#d8576b"
            ],
            [
             0.6666666666666666,
             "#ed7953"
            ],
            [
             0.7777777777777778,
             "#fb9f3a"
            ],
            [
             0.8888888888888888,
             "#fdca26"
            ],
            [
             1,
             "#f0f921"
            ]
           ],
           "sequentialminus": [
            [
             0,
             "#0d0887"
            ],
            [
             0.1111111111111111,
             "#46039f"
            ],
            [
             0.2222222222222222,
             "#7201a8"
            ],
            [
             0.3333333333333333,
             "#9c179e"
            ],
            [
             0.4444444444444444,
             "#bd3786"
            ],
            [
             0.5555555555555556,
             "#d8576b"
            ],
            [
             0.6666666666666666,
             "#ed7953"
            ],
            [
             0.7777777777777778,
             "#fb9f3a"
            ],
            [
             0.8888888888888888,
             "#fdca26"
            ],
            [
             1,
             "#f0f921"
            ]
           ]
          },
          "colorway": [
           "#636efa",
           "#EF553B",
           "#00cc96",
           "#ab63fa",
           "#FFA15A",
           "#19d3f3",
           "#FF6692",
           "#B6E880",
           "#FF97FF",
           "#FECB52"
          ],
          "font": {
           "color": "#2a3f5f"
          },
          "geo": {
           "bgcolor": "white",
           "lakecolor": "white",
           "landcolor": "#E5ECF6",
           "showlakes": true,
           "showland": true,
           "subunitcolor": "white"
          },
          "hoverlabel": {
           "align": "left"
          },
          "hovermode": "closest",
          "mapbox": {
           "style": "light"
          },
          "paper_bgcolor": "white",
          "plot_bgcolor": "#E5ECF6",
          "polar": {
           "angularaxis": {
            "gridcolor": "white",
            "linecolor": "white",
            "ticks": ""
           },
           "bgcolor": "#E5ECF6",
           "radialaxis": {
            "gridcolor": "white",
            "linecolor": "white",
            "ticks": ""
           }
          },
          "scene": {
           "xaxis": {
            "backgroundcolor": "#E5ECF6",
            "gridcolor": "white",
            "gridwidth": 2,
            "linecolor": "white",
            "showbackground": true,
            "ticks": "",
            "zerolinecolor": "white"
           },
           "yaxis": {
            "backgroundcolor": "#E5ECF6",
            "gridcolor": "white",
            "gridwidth": 2,
            "linecolor": "white",
            "showbackground": true,
            "ticks": "",
            "zerolinecolor": "white"
           },
           "zaxis": {
            "backgroundcolor": "#E5ECF6",
            "gridcolor": "white",
            "gridwidth": 2,
            "linecolor": "white",
            "showbackground": true,
            "ticks": "",
            "zerolinecolor": "white"
           }
          },
          "shapedefaults": {
           "line": {
            "color": "#2a3f5f"
           }
          },
          "ternary": {
           "aaxis": {
            "gridcolor": "white",
            "linecolor": "white",
            "ticks": ""
           },
           "baxis": {
            "gridcolor": "white",
            "linecolor": "white",
            "ticks": ""
           },
           "bgcolor": "#E5ECF6",
           "caxis": {
            "gridcolor": "white",
            "linecolor": "white",
            "ticks": ""
           }
          },
          "title": {
           "x": 0.05
          },
          "xaxis": {
           "automargin": true,
           "gridcolor": "white",
           "linecolor": "white",
           "ticks": "",
           "title": {
            "standoff": 15
           },
           "zerolinecolor": "white",
           "zerolinewidth": 2
          },
          "yaxis": {
           "automargin": true,
           "gridcolor": "white",
           "linecolor": "white",
           "ticks": "",
           "title": {
            "standoff": 15
           },
           "zerolinecolor": "white",
           "zerolinewidth": 2
          }
         }
        },
        "title": {
         "text": "Time x Iteration: 1.013 iter/s, r^2=0.996"
        }
       }
      }
     },
     "metadata": {},
     "output_type": "display_data"
    }
   ],
   "source": [
    "from scipy.optimize import curve_fit\n",
    "import plotly.graph_objects as go\n",
    "from sklearn.metrics import r2_score\n",
    "\n",
    "# linear regression\n",
    "def linear(x, a, b):\n",
    "    return a * x + b\n",
    "\n",
    "x = logsdf.iter.astype(float)\n",
    "y = logsdf.timestamp_delta.astype(float)\n",
    "popt, pcov = curve_fit(linear, x, y)\n",
    "y_pred = linear(x, *popt)\n",
    "\n",
    "fig = go.Figure()\n",
    "fig.add_trace(go.Scatter(x=x, y=y, mode=\"markers\", name=\"data\"))\n",
    "fig.add_trace(go.Scatter(x=x, y=y_pred, name=\"fit\"))\n",
    "# put the residuals r^2 on the legend\n",
    "r2 = r2_score(y, y_pred)\n",
    "\n",
    "# fig.update_layout(title=f\"Time x Iteration: {popt[0]:.2f} iter/s\", showlegend=True)\n",
    "fig.update_layout(title=f\"Time x Iteration: {popt[0]:.3f} iter/s, r^2={r2:.3f}\", showlegend=True)\n",
    "fig.show()\n"
   ]
  },
  {
   "cell_type": "code",
   "execution_count": null,
   "metadata": {},
   "outputs": [],
   "source": []
  },
  {
   "cell_type": "code",
   "execution_count": null,
   "metadata": {},
   "outputs": [],
   "source": []
  }
 ],
 "metadata": {
  "kernelspec": {
   "display_name": ".venv",
   "language": "python",
   "name": "python3"
  },
  "language_info": {
   "codemirror_mode": {
    "name": "ipython",
    "version": 3
   },
   "file_extension": ".py",
   "mimetype": "text/x-python",
   "name": "python",
   "nbconvert_exporter": "python",
   "pygments_lexer": "ipython3",
   "version": "3.10.12"
  }
 },
 "nbformat": 4,
 "nbformat_minor": 2
}
