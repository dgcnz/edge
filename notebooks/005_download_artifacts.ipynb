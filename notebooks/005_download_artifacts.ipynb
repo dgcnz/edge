{
 "cells": [
  {
   "cell_type": "code",
   "execution_count": 1,
   "metadata": {},
   "outputs": [
    {
     "name": "stderr",
     "output_type": "stream",
     "text": [
      "/Users/dgcnz/development/amsterdam/edge/.venv/lib/python3.10/site-packages/paramiko/pkey.py:100: CryptographyDeprecationWarning: TripleDES has been moved to cryptography.hazmat.decrepit.ciphers.algorithms.TripleDES and will be removed from this module in 48.0.0.\n",
      "  \"cipher\": algorithms.TripleDES,\n",
      "/Users/dgcnz/development/amsterdam/edge/.venv/lib/python3.10/site-packages/paramiko/transport.py:259: CryptographyDeprecationWarning: TripleDES has been moved to cryptography.hazmat.decrepit.ciphers.algorithms.TripleDES and will be removed from this module in 48.0.0.\n",
      "  \"class\": algorithms.TripleDES,\n"
     ]
    }
   ],
   "source": [
    "from typing import Optional\n",
    "import fabric\n",
    "from pathlib import Path\n",
    "import re\n",
    "import pandas as pd\n",
    "import wandb\n",
    "import random\n",
    "import string\n",
    "import logging\n",
    "\n",
    "logging.basicConfig(level=logging.INFO)\n",
    "\n",
    "\n",
    "def generate_model_name(prefix=\"model-\", length=8):\n",
    "    # Define the characters to choose from (alphanumeric)\n",
    "    characters = string.ascii_lowercase + string.digits\n",
    "    # Generate a random string of the specified length\n",
    "    random_suffix = \"\".join(random.choice(characters) for _ in range(length))\n",
    "    # Concatenate the prefix and the random suffix\n",
    "    model_name = prefix + random_suffix\n",
    "    return model_name\n",
    "\n",
    "\n",
    "class LocalWandbApi(object):\n",
    "    def __init__(\n",
    "        self,\n",
    "        project_dir: str,\n",
    "        wandb_project: str,\n",
    "        wandb_entity: str,\n",
    "        ssh_host: Optional[str] = None,\n",
    "    ):\n",
    "        self.project_dir = project_dir\n",
    "        self.ssh_host = ssh_host\n",
    "        self.runner = fabric.Connection(ssh_host) if ssh_host else None\n",
    "        self.wandb_dir = f\"{self.project_dir}/detrex/wandb_output/wandb\"\n",
    "        self.folder_pat = re.compile(r\"run-\\d{8}_\\d{6}-\\w{7}\")\n",
    "        self.wandb_project = wandb_project\n",
    "        self.wandb_entity = wandb_entity\n",
    "        self.logger = logging.Logger(\"LocalWandbApi\", level=logging.INFO)\n",
    "\n",
    "    def list_runs(self) -> dict[str, Path]:\n",
    "        \"\"\"Return a dictionary run_id: run_folder.\"\"\"\n",
    "        output = self.runner.run(f\"ls {self.wandb_dir}\", hide=True).stdout\n",
    "        folders = output.split(\"\\n\")\n",
    "        runs = {\n",
    "            run.split(\"-\")[-1]: Path(f\"{self.wandb_dir}/{run}\")\n",
    "            for run in folders\n",
    "            if self.folder_pat.match(run)\n",
    "        }\n",
    "        return runs\n",
    "\n",
    "    def get_run_folder(self, run_id: str) -> Path:\n",
    "        \"\"\"Return the folder of a run.\"\"\"\n",
    "        # Example: run-20240805_162409-67c1veuz\n",
    "        runs = self.list_runs()\n",
    "        return runs[run_id]\n",
    "\n",
    "    def get_run_logs_raw(self, run_id: str) -> str:\n",
    "        \"\"\"Return the raw logs of a run.\"\"\"\n",
    "        run_folder = self.get_run_folder(run_id)\n",
    "        output = self.runner.run(f\"cat {run_folder}/files/output.log\", hide=True).stdout\n",
    "        files = output.split(\"\\n\")\n",
    "        return files\n",
    "\n",
    "    def get_run_logs(self, run_id: str) -> pd.DataFrame:\n",
    "        \"\"\"Return a DataFrame with columns date, time, logger, message.\"\"\"\n",
    "        logs = self.get_run_logs_raw(run_id)\n",
    "        pat = re.compile(r\"^\\[(\\d{2}/\\d{2}) (\\d{2}:\\d{2}:\\d{2}) (.*)\\]: (.+)\")\n",
    "        data = []\n",
    "        columns = [\"date\", \"time\", \"logger\", \"message\"]\n",
    "        for log in logs:\n",
    "            # filter rows that do not contain logger prefix\n",
    "            # Examples:\n",
    "            # [08/05 18:18:58 d2.evaluation.evaluator]: asdfsadfj asdfas\n",
    "            # [08/05 18:20:13 d2.evaluation.fast_eval_api]: asdfsdf asdfasd\n",
    "            match = pat.match(log)\n",
    "            if match:\n",
    "                data.append(match.groups())\n",
    "        df = pd.DataFrame(data, columns=columns)\n",
    "        return df\n",
    "\n",
    "    def log_checkpoint(\n",
    "        self, run_id: str, ckpt_path: Path, artifact_name: Optional[str] = None\n",
    "    ):\n",
    "        \"\"\"Log a checkpoint to a run.\"\"\"\n",
    "        self.logger.info(f\"Logging checkpoint {ckpt_path} to run {run_id}\")\n",
    "        artifact_name = artifact_name or generate_model_name()\n",
    "        with wandb.init(\n",
    "            entity=self.wandb_entity,\n",
    "            project=self.wandb_project,\n",
    "            id=run_id,\n",
    "            resume=\"allow\",\n",
    "        ) as run:\n",
    "            self.logger.info(f\"Logging artifact {artifact_name}\")\n",
    "            artifact = wandb.Artifact(artifact_name, \"model\")\n",
    "            artifact.add_file(ckpt_path)\n",
    "            run.log_artifact(artifact)"
   ]
  },
  {
   "cell_type": "code",
   "execution_count": 2,
   "metadata": {},
   "outputs": [],
   "source": [
    "api = LocalWandbApi(\n",
    "    \"~/development/edge\",\n",
    "    ssh_host=\"amsterdam\",\n",
    "    wandb_entity=\"ams-edge\",\n",
    "    wandb_project=\"detrex\",\n",
    ")"
   ]
  },
  {
   "cell_type": "code",
   "execution_count": 3,
   "metadata": {},
   "outputs": [
    {
     "name": "stdout",
     "output_type": "stream",
     "text": [
      "hi\n"
     ]
    },
    {
     "name": "stderr",
     "output_type": "stream",
     "text": [
      "ERROR:wandb.jupyter:Failed to detect the name of this notebook, you can set it manually with the WANDB_NOTEBOOK_NAME environment variable to enable code saving.\n",
      "\u001b[34m\u001b[1mwandb\u001b[0m: Currently logged in as: \u001b[33mdiego-canez-ildefonso\u001b[0m (\u001b[33mams-edge\u001b[0m). Use \u001b[1m`wandb login --relogin`\u001b[0m to force relogin\n"
     ]
    },
    {
     "data": {
      "text/html": [
       "wandb version 0.17.5 is available!  To upgrade, please run:\n",
       " $ pip install wandb --upgrade"
      ],
      "text/plain": [
       "<IPython.core.display.HTML object>"
      ]
     },
     "metadata": {},
     "output_type": "display_data"
    },
    {
     "data": {
      "text/html": [
       "Tracking run with wandb version 0.17.4"
      ],
      "text/plain": [
       "<IPython.core.display.HTML object>"
      ]
     },
     "metadata": {},
     "output_type": "display_data"
    },
    {
     "data": {
      "text/html": [
       "Run data is saved locally in <code>/Users/dgcnz/development/amsterdam/edge/notebooks/wandb/run-20240807_135658-qftlioc0</code>"
      ],
      "text/plain": [
       "<IPython.core.display.HTML object>"
      ]
     },
     "metadata": {},
     "output_type": "display_data"
    },
    {
     "data": {
      "text/html": [
       "Resuming run <strong><a href='https://wandb.ai/ams-edge/detrex/runs/qftlioc0' target=\"_blank\">detrex_experiment</a></strong> to <a href='https://wandb.ai/ams-edge/detrex' target=\"_blank\">Weights & Biases</a> (<a href='https://wandb.me/run' target=\"_blank\">docs</a>)<br/>"
      ],
      "text/plain": [
       "<IPython.core.display.HTML object>"
      ]
     },
     "metadata": {},
     "output_type": "display_data"
    },
    {
     "data": {
      "text/html": [
       " View project at <a href='https://wandb.ai/ams-edge/detrex' target=\"_blank\">https://wandb.ai/ams-edge/detrex</a>"
      ],
      "text/plain": [
       "<IPython.core.display.HTML object>"
      ]
     },
     "metadata": {},
     "output_type": "display_data"
    },
    {
     "data": {
      "text/html": [
       " View run at <a href='https://wandb.ai/ams-edge/detrex/runs/qftlioc0' target=\"_blank\">https://wandb.ai/ams-edge/detrex/runs/qftlioc0</a>"
      ],
      "text/plain": [
       "<IPython.core.display.HTML object>"
      ]
     },
     "metadata": {},
     "output_type": "display_data"
    },
    {
     "data": {
      "application/vnd.jupyter.widget-view+json": {
       "model_id": "173a6a85a206427fb5041fb0ef477cf0",
       "version_major": 2,
       "version_minor": 0
      },
      "text/plain": [
       "VBox(children=(Label(value='585.081 MB of 585.117 MB uploaded\\r'), FloatProgress(value=0.9999393746981254, max…"
      ]
     },
     "metadata": {},
     "output_type": "display_data"
    },
    {
     "data": {
      "text/html": [
       "<style>\n",
       "    table.wandb td:nth-child(1) { padding: 0 10px; text-align: left ; width: auto;} td:nth-child(2) {text-align: left ; width: 100%}\n",
       "    .wandb-row { display: flex; flex-direction: row; flex-wrap: wrap; justify-content: flex-start; width: 100% }\n",
       "    .wandb-col { display: flex; flex-direction: column; flex-basis: 100%; flex: 1; padding: 10px; }\n",
       "    </style>\n",
       "<div class=\"wandb-row\"><div class=\"wandb-col\"><h3>Run summary:</h3><br/><table class=\"wandb\"><tr><td>bbox/AP</td><td>51.94385</td></tr><tr><td>bbox/AP-airplane</td><td>77.44832</td></tr><tr><td>bbox/AP-apple</td><td>29.53469</td></tr><tr><td>bbox/AP-backpack</td><td>22.86667</td></tr><tr><td>bbox/AP-banana</td><td>35.20076</td></tr><tr><td>bbox/AP-baseball bat</td><td>48.81458</td></tr><tr><td>bbox/AP-baseball glove</td><td>46.6375</td></tr><tr><td>bbox/AP-bear</td><td>84.32996</td></tr><tr><td>bbox/AP-bed</td><td>61.56205</td></tr><tr><td>bbox/AP-bench</td><td>37.76952</td></tr><tr><td>bbox/AP-bicycle</td><td>40.20304</td></tr><tr><td>bbox/AP-bird</td><td>42.49776</td></tr><tr><td>bbox/AP-boat</td><td>36.18421</td></tr><tr><td>bbox/AP-book</td><td>20.85829</td></tr><tr><td>bbox/AP-bottle</td><td>41.78004</td></tr><tr><td>bbox/AP-bowl</td><td>52.0878</td></tr><tr><td>bbox/AP-broccoli</td><td>30.21434</td></tr><tr><td>bbox/AP-bus</td><td>75.60527</td></tr><tr><td>bbox/AP-cake</td><td>54.83822</td></tr><tr><td>bbox/AP-car</td><td>46.06077</td></tr><tr><td>bbox/AP-carrot</td><td>25.31515</td></tr><tr><td>bbox/AP-cat</td><td>81.41451</td></tr><tr><td>bbox/AP-cell phone</td><td>41.44665</td></tr><tr><td>bbox/AP-chair</td><td>42.80955</td></tr><tr><td>bbox/AP-clock</td><td>52.6425</td></tr><tr><td>bbox/AP-couch</td><td>60.83426</td></tr><tr><td>bbox/AP-cow</td><td>65.64573</td></tr><tr><td>bbox/AP-cup</td><td>48.05411</td></tr><tr><td>bbox/AP-dining table</td><td>39.26545</td></tr><tr><td>bbox/AP-dog</td><td>78.68267</td></tr><tr><td>bbox/AP-donut</td><td>57.71623</td></tr><tr><td>bbox/AP-elephant</td><td>76.52864</td></tr><tr><td>bbox/AP-fire hydrant</td><td>74.15353</td></tr><tr><td>bbox/AP-fork</td><td>51.01213</td></tr><tr><td>bbox/AP-frisbee</td><td>67.53578</td></tr><tr><td>bbox/AP-giraffe</td><td>76.92965</td></tr><tr><td>bbox/AP-hair drier</td><td>33.7121</td></tr><tr><td>bbox/AP-handbag</td><td>23.51219</td></tr><tr><td>bbox/AP-horse</td><td>68.77436</td></tr><tr><td>bbox/AP-hot dog</td><td>53.33534</td></tr><tr><td>bbox/AP-keyboard</td><td>63.33652</td></tr><tr><td>bbox/AP-kite</td><td>44.04653</td></tr><tr><td>bbox/AP-knife</td><td>31.03693</td></tr><tr><td>bbox/AP-laptop</td><td>74.49368</td></tr><tr><td>bbox/AP-microwave</td><td>70.43705</td></tr><tr><td>bbox/AP-motorcycle</td><td>54.72234</td></tr><tr><td>bbox/AP-mouse</td><td>62.40614</td></tr><tr><td>bbox/AP-orange</td><td>37.36665</td></tr><tr><td>bbox/AP-oven</td><td>49.0593</td></tr><tr><td>bbox/AP-parking meter</td><td>52.79969</td></tr><tr><td>bbox/AP-person</td><td>58.45942</td></tr><tr><td>bbox/AP-pizza</td><td>62.4274</td></tr><tr><td>bbox/AP-potted plant</td><td>36.89995</td></tr><tr><td>bbox/AP-refrigerator</td><td>74.87603</td></tr><tr><td>bbox/AP-remote</td><td>40.0057</td></tr><tr><td>bbox/AP-sandwich</td><td>56.67948</td></tr><tr><td>bbox/AP-scissors</td><td>48.56726</td></tr><tr><td>bbox/AP-sheep</td><td>61.77964</td></tr><tr><td>bbox/AP-sink</td><td>45.09341</td></tr><tr><td>bbox/AP-skateboard</td><td>60.76122</td></tr><tr><td>bbox/AP-skis</td><td>31.77675</td></tr><tr><td>bbox/AP-snowboard</td><td>45.61013</td></tr><tr><td>bbox/AP-spoon</td><td>30.80747</td></tr><tr><td>bbox/AP-sports ball</td><td>39.80182</td></tr><tr><td>bbox/AP-stop sign</td><td>65.00562</td></tr><tr><td>bbox/AP-suitcase</td><td>54.54382</td></tr><tr><td>bbox/AP-surfboard</td><td>48.68313</td></tr><tr><td>bbox/AP-teddy bear</td><td>62.62867</td></tr><tr><td>bbox/AP-tennis racket</td><td>58.31559</td></tr><tr><td>bbox/AP-tie</td><td>41.76808</td></tr><tr><td>bbox/AP-toaster</td><td>51.26534</td></tr><tr><td>bbox/AP-toilet</td><td>76.03933</td></tr><tr><td>bbox/AP-toothbrush</td><td>35.99121</td></tr><tr><td>bbox/AP-traffic light</td><td>24.50916</td></tr><tr><td>bbox/AP-train</td><td>79.43579</td></tr><tr><td>bbox/AP-truck</td><td>46.54851</td></tr><tr><td>bbox/AP-tv</td><td>65.29495</td></tr><tr><td>bbox/AP-umbrella</td><td>49.06454</td></tr><tr><td>bbox/AP-vase</td><td>44.24139</td></tr><tr><td>bbox/AP-wine glass</td><td>40.10983</td></tr><tr><td>bbox/AP-zebra</td><td>74.99825</td></tr><tr><td>bbox/AP50</td><td>72.75211</td></tr><tr><td>bbox/AP75</td><td>56.07494</td></tr><tr><td>bbox/APl</td><td>72.33378</td></tr><tr><td>bbox/APm</td><td>57.39282</td></tr><tr><td>bbox/APs</td><td>30.51512</td></tr><tr><td>data_time</td><td>0.00668</td></tr><tr><td>eta_seconds</td><td>0</td></tr><tr><td>loss_bbox</td><td>0.15183</td></tr><tr><td>loss_bbox_0</td><td>0.15911</td></tr><tr><td>loss_bbox_1</td><td>0.1572</td></tr><tr><td>loss_bbox_2</td><td>0.1543</td></tr><tr><td>loss_bbox_3</td><td>0.15081</td></tr><tr><td>loss_bbox_4</td><td>0.15181</td></tr><tr><td>loss_bbox_dn</td><td>0.19457</td></tr><tr><td>loss_bbox_dn_0</td><td>0.26988</td></tr><tr><td>loss_bbox_dn_1</td><td>0.21252</td></tr><tr><td>loss_bbox_dn_2</td><td>0.20038</td></tr><tr><td>loss_bbox_dn_3</td><td>0.19581</td></tr><tr><td>loss_bbox_dn_4</td><td>0.19455</td></tr><tr><td>loss_bbox_enc</td><td>0.17036</td></tr><tr><td>loss_class</td><td>0.17767</td></tr><tr><td>loss_class_0</td><td>0.211</td></tr><tr><td>loss_class_1</td><td>0.19636</td></tr><tr><td>loss_class_2</td><td>0.19009</td></tr><tr><td>loss_class_3</td><td>0.18116</td></tr><tr><td>loss_class_4</td><td>0.17696</td></tr><tr><td>loss_class_dn</td><td>0.02567</td></tr><tr><td>loss_class_dn_0</td><td>0.05942</td></tr><tr><td>loss_class_dn_1</td><td>0.03559</td></tr><tr><td>loss_class_dn_2</td><td>0.02884</td></tr><tr><td>loss_class_dn_3</td><td>0.02626</td></tr><tr><td>loss_class_dn_4</td><td>0.02552</td></tr><tr><td>loss_class_enc</td><td>0.22798</td></tr><tr><td>loss_giou</td><td>0.46191</td></tr><tr><td>loss_giou_0</td><td>0.47878</td></tr><tr><td>loss_giou_1</td><td>0.4723</td></tr><tr><td>loss_giou_2</td><td>0.46611</td></tr><tr><td>loss_giou_3</td><td>0.46012</td></tr><tr><td>loss_giou_4</td><td>0.46513</td></tr><tr><td>loss_giou_dn</td><td>0.45802</td></tr><tr><td>loss_giou_dn_0</td><td>0.57276</td></tr><tr><td>loss_giou_dn_1</td><td>0.47936</td></tr><tr><td>loss_giou_dn_2</td><td>0.462</td></tr><tr><td>loss_giou_dn_3</td><td>0.45937</td></tr><tr><td>loss_giou_dn_4</td><td>0.45784</td></tr><tr><td>loss_giou_enc</td><td>0.49285</td></tr><tr><td>lr</td><td>1e-05</td></tr><tr><td>rank_data_time</td><td>0.00552</td></tr><tr><td>time</td><td>0.98028</td></tr><tr><td>total_loss</td><td>10.28587</td></tr></table><br/></div></div>"
      ],
      "text/plain": [
       "<IPython.core.display.HTML object>"
      ]
     },
     "metadata": {},
     "output_type": "display_data"
    },
    {
     "data": {
      "text/html": [
       " View run <strong style=\"color:#cdcd00\">detrex_experiment</strong> at: <a href='https://wandb.ai/ams-edge/detrex/runs/qftlioc0' target=\"_blank\">https://wandb.ai/ams-edge/detrex/runs/qftlioc0</a><br/> View project at: <a href='https://wandb.ai/ams-edge/detrex' target=\"_blank\">https://wandb.ai/ams-edge/detrex</a><br/>Synced 3 W&B file(s), 0 media file(s), 1 artifact file(s) and 0 other file(s)"
      ],
      "text/plain": [
       "<IPython.core.display.HTML object>"
      ]
     },
     "metadata": {},
     "output_type": "display_data"
    },
    {
     "data": {
      "text/html": [
       "Find logs at: <code>./wandb/run-20240807_135658-qftlioc0/logs</code>"
      ],
      "text/plain": [
       "<IPython.core.display.HTML object>"
      ]
     },
     "metadata": {},
     "output_type": "display_data"
    },
    {
     "data": {
      "text/html": [
       "The new W&B backend becomes opt-out in version 0.18.0; try it out with `wandb.require(\"core\")`! See https://wandb.me/wandb-core for more information."
      ],
      "text/plain": [
       "<IPython.core.display.HTML object>"
      ]
     },
     "metadata": {},
     "output_type": "display_data"
    }
   ],
   "source": [
    "ckpt_path = \"../artifacts/model_final.pth\"\n",
    "run_id = \"qftlioc0\" # last run\n",
    "api.log_checkpoint(run_id, ckpt_path)"
   ]
  }
 ],
 "metadata": {
  "kernelspec": {
   "display_name": ".venv",
   "language": "python",
   "name": "python3"
  },
  "language_info": {
   "codemirror_mode": {
    "name": "ipython",
    "version": 3
   },
   "file_extension": ".py",
   "mimetype": "text/x-python",
   "name": "python",
   "nbconvert_exporter": "python",
   "pygments_lexer": "ipython3",
   "version": "3.10.12"
  }
 },
 "nbformat": 4,
 "nbformat_minor": 2
}
