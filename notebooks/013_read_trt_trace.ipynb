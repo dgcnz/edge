{
 "cells": [
  {
   "cell_type": "markdown",
   "metadata": {},
   "source": [
    "# Reading TRT traces"
   ]
  },
  {
   "cell_type": "code",
   "execution_count": 1,
   "metadata": {},
   "outputs": [],
   "source": [
    "import json\n",
    "from viztracer import VizTracer\n",
    "from pathlib import Path\n",
    "from perfetto.trace_processor import TraceProcessor\n"
   ]
  },
  {
   "cell_type": "code",
   "execution_count": 4,
   "metadata": {},
   "outputs": [],
   "source": [
    "trace_file = Path(\"./assets/_run_on_acc_0_engine_engine_exectuion_profile.trace\")"
   ]
  },
  {
   "cell_type": "code",
   "execution_count": 5,
   "metadata": {},
   "outputs": [],
   "source": [
    "tp = TraceProcessor(trace=str(trace_file))\n"
   ]
  },
  {
   "cell_type": "code",
   "execution_count": 13,
   "metadata": {},
   "outputs": [
    {
     "name": "stdout",
     "output_type": "stream",
     "text": [
      "           ts     dur                                               name\n",
      "318  61140100  829440         __myl_DivMulResTraResRepConMulSum_myl86_84\n",
      "288  53179400  829440         __myl_DivMulResTraResRepConMulSum_myl86_54\n",
      "333  65124500  829440         __myl_DivMulResTraResRepConMulSum_myl86_99\n",
      "303  57160800  825344         __myl_DivMulResTraResRepConMulSum_myl86_69\n",
      "273  49221400  822272         __myl_DivMulResTraResRepConMulSum_myl86_39\n",
      "..        ...     ...                                                ...\n",
      "148  41035000  509952  [MATRIX_MULTIPLY]_[aten_ops_addmm_default]_[ne...\n",
      "88   23731300  509952  [MATRIX_MULTIPLY]_[aten_ops_addmm_default]_[ne...\n",
      "341  67977300  459776  [MATRIX_MULTIPLY]_[aten_ops_addmm_default]_[ne...\n",
      "197  43153700  428032  [CONVOLUTION]-[aten_ops.convolution.default]-[...\n",
      "8      574560  407552  [MATRIX_MULTIPLY]_[aten_ops_addmm_default]_[ne...\n",
      "\n",
      "[82 rows x 3 columns]\n"
     ]
    }
   ],
   "source": [
    "qr_it = tp.query('SELECT ts, dur, name FROM slice')\n",
    "qr_df = qr_it.as_pandas_dataframe()\n",
    "# sort by dur\n",
    "qr_df = qr_df.sort_values(by='dur', ascending=False)\n",
    "# filter geq 800000\n",
    "qr_df = qr_df[qr_df['dur'] >= 400000]\n",
    "print(qr_df)"
   ]
  },
  {
   "cell_type": "code",
   "execution_count": 11,
   "metadata": {},
   "outputs": [
    {
     "data": {
      "image/png": "[encoded data removed]",
      "text/plain": [
       "<Figure size 640x480 with 1 Axes>"
      ]
     },
     "metadata": {},
     "output_type": "display_data"
    }
   ],
   "source": [
    "# plot duration distribution\n",
    "import matplotlib.pyplot as plt\n",
    "plt.hist(qr_df['dur'], bins=100)\n",
    "plt.show()"
   ]
  },
  {
   "cell_type": "code",
   "execution_count": null,
   "metadata": {},
   "outputs": [],
   "source": []
  },
  {
   "cell_type": "code",
   "execution_count": 25,
   "metadata": {},
   "outputs": [],
   "source": [
    "with open(trace_file, \"r\") as f:\n",
    "    trace = json.load(f)\n"
   ]
  },
  {
   "cell_type": "code",
   "execution_count": null,
   "metadata": {},
   "outputs": [],
   "source": []
  }
 ],
 "metadata": {
  "kernelspec": {
   "display_name": "cu124",
   "language": "python",
   "name": "python3"
  },
  "language_info": {
   "codemirror_mode": {
    "name": "ipython",
    "version": 3
   },
   "file_extension": ".py",
   "mimetype": "text/x-python",
   "name": "python",
   "nbconvert_exporter": "python",
   "pygments_lexer": "ipython3",
   "version": "3.10.0"
  }
 },
 "nbformat": 4,
 "nbformat_minor": 2
}
