{
 "cells": [
  {
   "cell_type": "code",
   "execution_count": 1,
   "metadata": {},
   "outputs": [],
   "source": [
    "from src.utils.quantization import export_and_quantize_dinov2, load_input, load_model, export_dinov2, load_input_fixed\n",
    "from detectron2.utils.visualizer import Visualizer\n",
    "from detectron2.data import MetadataCatalog\n",
    "import matplotlib.pyplot as plt\n",
    "from demo import VisualizationDemo\n",
    "from detectron2.data.detection_utils import read_image\n",
    "from copy import copy\n",
    "import torch\n",
    "import torchvision.transforms as T"
   ]
  },
  {
   "cell_type": "code",
   "execution_count": 2,
   "metadata": {},
   "outputs": [],
   "source": [
    "image_path = \"artifacts/idea_raw.jpg\"\n",
    "# image_path = \"artifacts/white.jpg\"\n",
    "img, example_kwargs = load_input_fixed(image_path=image_path)"
   ]
  },
  {
   "cell_type": "code",
   "execution_count": null,
   "metadata": {},
   "outputs": [],
   "source": [
    "model = load_model()"
   ]
  },
  {
   "cell_type": "code",
   "execution_count": null,
   "metadata": {},
   "outputs": [],
   "source": [
    "exported_model = export_dinov2(model, example_kwargs)"
   ]
  },
  {
   "cell_type": "code",
   "execution_count": 5,
   "metadata": {},
   "outputs": [],
   "source": [
    "image_path = \"artifacts/ams.jpg\"\n",
    "img, example_kwargs = load_input_fixed(image_path=image_path)"
   ]
  },
  {
   "cell_type": "code",
   "execution_count": null,
   "metadata": {},
   "outputs": [],
   "source": [
    "with torch.no_grad():\n",
    "    out = model(**example_kwargs)\n",
    "    del model"
   ]
  },
  {
   "cell_type": "code",
   "execution_count": null,
   "metadata": {},
   "outputs": [],
   "source": [
    "with torch.no_grad():\n",
    "    out_exported = exported_model.module()(**example_kwargs)\n",
    "    del exported_model"
   ]
  },
  {
   "cell_type": "code",
   "execution_count": 8,
   "metadata": {},
   "outputs": [],
   "source": [
    "def filter_predictions_with_confidence(predictions, confidence_threshold=0.5):\n",
    "    if \"instances\" in predictions:\n",
    "        preds = predictions[\"instances\"]\n",
    "        keep_idxs = preds.scores > confidence_threshold\n",
    "        predictions = copy(predictions) # don't modify the original\n",
    "        predictions[\"instances\"] = preds[keep_idxs]\n",
    "    return predictions"
   ]
  },
  {
   "cell_type": "code",
   "execution_count": 9,
   "metadata": {},
   "outputs": [],
   "source": [
    "out = filter_predictions_with_confidence(out)"
   ]
  },
  {
   "cell_type": "code",
   "execution_count": 10,
   "metadata": {},
   "outputs": [],
   "source": [
    "out_exported = filter_predictions_with_confidence(out_exported)"
   ]
  },
  {
   "cell_type": "code",
   "execution_count": null,
   "metadata": {},
   "outputs": [],
   "source": [
    "\n",
    "v = Visualizer(img, MetadataCatalog.get(\"coco_2017_val\"))\n",
    "pred = filter_predictions_with_confidence(out[0], confidence_threshold=0.5)\n",
    "v = v.draw_instance_predictions(pred[\"instances\"].to(\"cpu\"))\n",
    "\n",
    "# Display the results\n",
    "plt.figure(figsize=(14, 10))\n",
    "plt.imshow(v.get_image()[:, :, ::-1])\n",
    "plt.axis('off')\n",
    "plt.show()"
   ]
  },
  {
   "cell_type": "code",
   "execution_count": null,
   "metadata": {},
   "outputs": [],
   "source": [
    "\n",
    "v = Visualizer(img, MetadataCatalog.get(\"coco_2017_val\"))\n",
    "pred = filter_predictions_with_confidence(out_exported[0], confidence_threshold=0.5)\n",
    "v = v.draw_instance_predictions(pred[\"instances\"].to(\"cpu\"))\n",
    "\n",
    "# Display the results\n",
    "plt.figure(figsize=(14, 10))\n",
    "plt.imshow(v.get_image()[:, :, ::-1])\n",
    "plt.axis('off')\n",
    "plt.show()"
   ]
  },
  {
   "cell_type": "code",
   "execution_count": null,
   "metadata": {},
   "outputs": [],
   "source": []
  }
 ],
 "metadata": {
  "kernelspec": {
   "display_name": "cloudspace",
   "language": "python",
   "name": "python3"
  },
  "language_info": {
   "codemirror_mode": {
    "name": "ipython",
    "version": 3
   },
   "file_extension": ".py",
   "mimetype": "text/x-python",
   "name": "python",
   "nbconvert_exporter": "python",
   "pygments_lexer": "ipython3",
   "version": "3.10.10"
  }
 },
 "nbformat": 4,
 "nbformat_minor": 2
}
