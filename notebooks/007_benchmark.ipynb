{
 "cells": [
  {
   "cell_type": "code",
   "execution_count": 2,
   "metadata": {},
   "outputs": [
    {
     "name": "stdout",
     "output_type": "stream",
     "text": [
      "/Users/dgcnz/development/amsterdam/edge\n"
     ]
    }
   ],
   "source": [
    "from detectron2.data.detection_utils import read_image\n",
    "from demo.predictors import VisualizationDemo\n",
    "from detectron2.config import LazyConfig, instantiate\n",
    "from pathlib import Path\n",
    "from detectron2.checkpoint import DetectionCheckpointer\n",
    "\n",
    "print(Path.cwd())\n",
    "assert (Path.cwd() / \".project-root\").exists(), \"Please run this script from the root of the project\""
   ]
  },
  {
   "cell_type": "code",
   "execution_count": 5,
   "metadata": {},
   "outputs": [],
   "source": [
    "config_file = \"projects/dino_dinov2/configs/COCO/dino_dinov2_b_12ep.py\"\n",
    "image_path = \"artifacts/idea.jpg\"\n",
    "CONFIDENCE_THRESHOLD = 0.5\n",
    "opts = [\"model.device=cpu\", \"train.device=cpu\", \"train.init_checkpoint=artifacts/model_final.pth\"]"
   ]
  },
  {
   "cell_type": "code",
   "execution_count": 6,
   "metadata": {},
   "outputs": [
    {
     "name": "stderr",
     "output_type": "stream",
     "text": [
      "/Users/dgcnz/development/amsterdam/edge/.venv/lib/python3.10/site-packages/torch/_functorch/deprecated.py:61: UserWarning: We've integrated functorch into PyTorch. As the final step of the integration, functorch.vmap is deprecated as of PyTorch 2.0 and will be deleted in a future version of PyTorch >= 2.3. Please use torch.vmap instead; see the PyTorch 2.0 release notes and/or the torch.func migration guide for more details https://pytorch.org/docs/master/func.migrating.html\n",
      "  warn_deprecated('vmap', 'torch.vmap')\n"
     ]
    },
    {
     "name": "stdout",
     "output_type": "stream",
     "text": [
      "\u001b[32m[08/08 12:04:20 timm backbone]: \u001b[0mbackbone out_indices: (11,)\n",
      "\u001b[32m[08/08 12:04:20 timm backbone]: \u001b[0mbackbone out_channels: [768]\n",
      "\u001b[32m[08/08 12:04:20 timm backbone]: \u001b[0mbackbone out_strides: [16]\n"
     ]
    }
   ],
   "source": [
    "cfg = LazyConfig.load(config_file)\n",
    "cfg = LazyConfig.apply_overrides(cfg, opts)\n",
    "model = instantiate(cfg.model).eval();\n",
    "checkpointer = DetectionCheckpointer(model);\n",
    "checkpointer.load(cfg.train.init_checkpoint);"
   ]
  },
  {
   "cell_type": "code",
   "execution_count": 7,
   "metadata": {},
   "outputs": [],
   "source": [
    "img = read_image(image_path, format=\"BGR\")\n",
    "demo = VisualizationDemo(model=model)"
   ]
  },
  {
   "cell_type": "code",
   "execution_count": null,
   "metadata": {},
   "outputs": [],
   "source": [
    "predictions, visualized_output = demo.run_on_image(img, CONFIDENCE_THRESHOLD);"
   ]
  },
  {
   "cell_type": "code",
   "execution_count": 13,
   "metadata": {},
   "outputs": [
    {
     "name": "stdout",
     "output_type": "stream",
     "text": [
      "<torch.utils.benchmark.utils.common.Measurement object at 0x2eff265c0>\n",
      "demo.run_on_image(img, CONFIDENCE_THRESHOLD)\n",
      "  7.51 s\n",
      "  1 measurement, 10 runs , 1 thread\n"
     ]
    }
   ],
   "source": [
    "import torch.utils.benchmark as benchmark\n",
    "\n",
    "t0 = benchmark.Timer(\n",
    "    stmt=\"demo.run_on_image(img, CONFIDENCE_THRESHOLD)\",\n",
    "    setup=\"\"\"\"\"\",\n",
    "    globals={\"demo\": demo, \"img\": img, \"CONFIDENCE_THRESHOLD\": CONFIDENCE_THRESHOLD},\n",
    ")\n",
    "\n",
    "# t1 = benchmark.Timer(\n",
    "#     stmt='batched_dot_bmm(x, x)',\n",
    "#     setup='from __main__ import batched_dot_bmm',\n",
    "#     globals={'x': x})\n",
    "\n",
    "print(t0.timeit(10))\n",
    "# print(t1.timeit(100))"
   ]
  },
  {
   "cell_type": "code",
   "execution_count": null,
   "metadata": {},
   "outputs": [],
   "source": []
  }
 ],
 "metadata": {
  "kernelspec": {
   "display_name": ".venv",
   "language": "python",
   "name": "python3"
  },
  "language_info": {
   "codemirror_mode": {
    "name": "ipython",
    "version": 3
   },
   "file_extension": ".py",
   "mimetype": "text/x-python",
   "name": "python",
   "nbconvert_exporter": "python",
   "pygments_lexer": "ipython3",
   "version": "3.10.12"
  }
 },
 "nbformat": 4,
 "nbformat_minor": 2
}
